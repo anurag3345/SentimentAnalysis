{
 "cells": [
  {
   "cell_type": "code",
   "execution_count": null,
   "metadata": {},
   "outputs": [],
   "source": [
    "%pip install transformers datasets torch scikit-learn"
   ]
  },
  {
   "cell_type": "code",
   "execution_count": null,
   "metadata": {},
   "outputs": [],
   "source": [
    "from datasets import load_dataset\n",
    "\n",
    "# Load the GoEmotions dataset\n",
    "dataset = load_dataset(\"go_emotions\")\n",
    "\n",
    "# Print sample data structure\n",
    "print(dataset)\n",
    "print(dataset[\"train\"][0])\n"
   ]
  },
  {
   "cell_type": "code",
   "execution_count": null,
   "metadata": {},
   "outputs": [],
   "source": [
    "import torch\n",
    "import numpy as np\n",
    "from sklearn.preprocessing import MultiLabelBinarizer\n",
    "\n",
    "# Get all 28 emotion labels\n",
    "label_names = dataset[\"train\"].features[\"labels\"].feature.names\n",
    "num_labels = len(label_names)\n",
    "\n",
    "# Convert label indices to one-hot encoded vectors\n",
    "mlb = MultiLabelBinarizer(classes=range(num_labels))\n",
    "\n",
    "def preprocess_data(example):\n",
    "    example[\"labels\"] = mlb.fit_transform([example[\"labels\"]])[0]  # One-hot encoding\n",
    "    return example\n",
    "\n",
    "# Apply preprocessing to all splits\n",
    "dataset = dataset.map(preprocess_data)\n",
    "\n",
    "# Check processed data\n",
    "print(dataset[\"train\"][0])\n"
   ]
  },
  {
   "cell_type": "code",
   "execution_count": null,
   "metadata": {},
   "outputs": [],
   "source": [
    "from transformers import AutoTokenizer\n",
    "\n",
    "# Load BERT tokenizer\n",
    "tokenizer = AutoTokenizer.from_pretrained(\"bert-base-uncased\")\n",
    "\n",
    "def tokenize_data(example):\n",
    "    return tokenizer(example[\"text\"], padding=\"max_length\", truncation=True, max_length=128)\n",
    "\n",
    "# Apply tokenizer\n",
    "dataset = dataset.map(tokenize_data, batched=True)\n",
    "\n",
    "# Remove unneeded columns\n",
    "dataset.set_format(type=\"torch\", columns=[\"input_ids\", \"attention_mask\", \"labels\"])\n",
    "\n",
    "# Check final processed data\n",
    "print(dataset[\"train\"][0])\n"
   ]
  },
  {
   "cell_type": "code",
   "execution_count": null,
   "metadata": {},
   "outputs": [],
   "source": [
    "import torch\n",
    "import torch.nn as nn\n",
    "from transformers import AutoModel\n",
    "\n",
    "class MultiLabelBERT(nn.Module):\n",
    "    def __init__(self, model_name, num_labels):\n",
    "        super(MultiLabelBERT, self).__init__()\n",
    "        self.bert = AutoModel.from_pretrained(model_name)\n",
    "        self.dropout = nn.Dropout(0.3)\n",
    "        self.classifier = nn.Linear(self.bert.config.hidden_size, num_labels)\n",
    "    \n",
    "    def forward(self, input_ids, attention_mask):\n",
    "        outputs = self.bert(input_ids=input_ids, attention_mask=attention_mask)\n",
    "        pooled_output = outputs.pooler_output  # CLS token representation\n",
    "        dropped_output = self.dropout(pooled_output)\n",
    "        logits = self.classifier(dropped_output)\n",
    "        return logits  # No activation here, since BCEWithLogitsLoss applies sigmoid automatically"
   ]
  },
  {
   "cell_type": "code",
   "execution_count": null,
   "metadata": {},
   "outputs": [],
   "source": [
    "from torch.utils.data import DataLoader\n",
    "\n",
    "# Set batch size\n",
    "BATCH_SIZE = 64\n",
    "\n",
    "# Create DataLoaders\n",
    "train_dataloader = DataLoader(dataset[\"train\"], batch_size=BATCH_SIZE, shuffle=True)\n",
    "val_dataloader = DataLoader(dataset[\"validation\"], batch_size=BATCH_SIZE)\n"
   ]
  },
  {
   "cell_type": "code",
   "execution_count": null,
   "metadata": {},
   "outputs": [],
   "source": [
    "from transformers import AdamW, get_scheduler\n",
    "\n",
    "# Define model\n",
    "device = torch.device(\"cuda\" if torch.cuda.is_available() else \"cpu\")\n",
    "model = MultiLabelBERT(\"bert-base-uncased\", num_labels).to(device)\n",
    "\n",
    "# Define optimizer\n",
    "optimizer = AdamW(model.parameters(), lr=0.01, weight_decay=0.01)\n",
    "\n",
    "# Learning rate scheduler\n",
    "num_training_steps = len(train_dataloader) * 10  # Assuming 3 epochs\n",
    "lr_scheduler = get_scheduler(\"linear\", optimizer=optimizer, num_warmup_steps=0, num_training_steps=num_training_steps)\n",
    "\n",
    "# Loss function (Binary Cross-Entropy for multi-label)\n",
    "criterion = nn.BCEWithLogitsLoss()"
   ]
  },
  {
   "cell_type": "code",
   "execution_count": null,
   "metadata": {},
   "outputs": [],
   "source": [
    "%pip install torch torchvision torchaudio transformers datasets tqdm scikit-learn matplotlib numpy pandas seaborn\n"
   ]
  },
  {
   "cell_type": "code",
   "execution_count": null,
   "metadata": {},
   "outputs": [],
   "source": [
    "import matplotlib.pyplot as plt\n",
    "from tqdm import tqdm\n",
    "import numpy as np\n",
    "\n",
    "EPOCHS = 10  # You can increase this for better performance\n",
    "\n",
    "# Track losses and accuracies\n",
    "train_losses, val_losses = [], []\n",
    "train_accuracies, val_accuracies = [], []\n",
    "\n",
    "for epoch in range(EPOCHS):\n",
    "    model.train()\n",
    "    loop = tqdm(train_dataloader, leave=True)\n",
    "\n",
    "    total_loss, correct, total = 0, 0, 0\n",
    "    all_train_labels, all_train_preds = [], []\n",
    "\n",
    "    for batch in loop:\n",
    "        input_ids = batch[\"input_ids\"].to(device)\n",
    "        attention_mask = batch[\"attention_mask\"].to(device)\n",
    "        labels = batch[\"labels\"].to(device, dtype=torch.float)  # Multi-label needs float labels\n",
    "\n",
    "        optimizer.zero_grad()\n",
    "        logits = model(input_ids, attention_mask)\n",
    "        loss = criterion(logits, labels)  # Apply BCEWithLogitsLoss\n",
    "        loss.backward()\n",
    "        optimizer.step()\n",
    "        lr_scheduler.step()\n",
    "\n",
    "        total_loss += loss.item()\n",
    "\n",
    "        # Convert logits to probabilities\n",
    "        preds = torch.sigmoid(logits).detach().cpu().numpy()\n",
    "        labels_np = labels.cpu().numpy()\n",
    "\n",
    "        all_train_labels.append(labels_np)\n",
    "        all_train_preds.append(preds)\n",
    "\n",
    "        # Update progress bar\n",
    "        loop.set_description(f\"Epoch {epoch+1}\")\n",
    "        loop.set_postfix(loss=loss.item())\n",
    "\n",
    "    # Compute training accuracy\n",
    "    all_train_labels = np.vstack(all_train_labels)\n",
    "    all_train_preds = np.vstack(all_train_preds)\n",
    "    train_acc = multi_label_accuracy(all_train_labels, all_train_preds)\n",
    "    \n",
    "    # Store training loss & accuracy\n",
    "    train_losses.append(total_loss / len(train_dataloader))\n",
    "    train_accuracies.append(train_acc)\n",
    "\n",
    "    # Evaluate validation performance\n",
    "    val_metrics = evaluate_model(model, val_dataloader)\n",
    "    val_losses.append(val_metrics[\"Accuracy\"])  # Track validation loss (use accuracy here for simplicity)\n",
    "    val_accuracies.append(val_metrics[\"Accuracy\"])\n",
    "\n",
    "    print(f\"\\nEpoch {epoch+1} Summary:\")\n",
    "    print(f\"Train Loss: {train_losses[-1]:.4f} | Train Accuracy: {train_accuracies[-1]:.4f}\")\n",
    "    print(f\"Val Accuracy: {val_accuracies[-1]:.4f} | Val AUROC: {val_metrics['AUROC']:.4f}\")\n",
    "\n",
    "# After all epochs, evaluate on test set\n",
    "test_metrics = evaluate_model(model, dataset[\"test\"])\n",
    "print(f\"\\nFinal Test Accuracy: {test_metrics['Accuracy']:.4f}\")\n",
    "print(f\"Test AUROC: {test_metrics['AUROC']:.4f}\")\n"
   ]
  },
  {
   "cell_type": "code",
   "execution_count": null,
   "metadata": {},
   "outputs": [],
   "source": []
  }
 ],
 "metadata": {
  "kernelspec": {
   "display_name": "Python 3",
   "language": "python",
   "name": "python3"
  },
  "language_info": {
   "codemirror_mode": {
    "name": "ipython",
    "version": 3
   },
   "file_extension": ".py",
   "mimetype": "text/x-python",
   "name": "python",
   "nbconvert_exporter": "python",
   "pygments_lexer": "ipython3",
   "version": "3.13.1"
  }
 },
 "nbformat": 4,
 "nbformat_minor": 2
}
